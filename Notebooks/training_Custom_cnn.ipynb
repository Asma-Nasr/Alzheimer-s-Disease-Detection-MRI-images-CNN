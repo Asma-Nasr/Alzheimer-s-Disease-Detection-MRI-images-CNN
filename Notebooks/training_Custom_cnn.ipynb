{
 "cells": [
  {
   "cell_type": "code",
   "execution_count": 1,
   "id": "637d99f6",
   "metadata": {},
   "outputs": [
    {
     "name": "stderr",
     "output_type": "stream",
     "text": [
      "c:\\Users\\asman\\anaconda3\\envs\\myenv\\lib\\site-packages\\requests\\__init__.py:104: RequestsDependencyWarning: urllib3 (1.26.18) or chardet (5.0.0)/charset_normalizer (2.0.12) doesn't match a supported version!\n",
      "  RequestsDependencyWarning)\n"
     ]
    }
   ],
   "source": [
    "from src.model import CNN\n",
    "from src.train import train_model\n",
    "from src.load_data import load_and_preprocess_data, prepare_train_test_data\n",
    "from src.evaluate import evaluate_model"
   ]
  },
  {
   "cell_type": "code",
   "execution_count": 2,
   "id": "33c3ccfe",
   "metadata": {},
   "outputs": [
    {
     "data": {
      "text/plain": [
       "[PhysicalDevice(name='/physical_device:GPU:0', device_type='GPU')]"
      ]
     },
     "execution_count": 2,
     "metadata": {},
     "output_type": "execute_result"
    }
   ],
   "source": [
    "import tensorflow as tf\n",
    "tf.config.list_physical_devices('GPU')"
   ]
  },
  {
   "cell_type": "code",
   "execution_count": 3,
   "id": "7a106585",
   "metadata": {},
   "outputs": [
    {
     "name": "stdout",
     "output_type": "stream",
     "text": [
      "Model: \"sequential\"\n",
      "_________________________________________________________________\n",
      "Layer (type)                 Output Shape              Param #   \n",
      "=================================================================\n",
      "conv2d (Conv2D)              (None, 98, 98, 16)        448       \n",
      "_________________________________________________________________\n",
      "max_pooling2d (MaxPooling2D) (None, 49, 49, 16)        0         \n",
      "_________________________________________________________________\n",
      "conv2d_1 (Conv2D)            (None, 48, 48, 32)        2080      \n",
      "_________________________________________________________________\n",
      "max_pooling2d_1 (MaxPooling2 (None, 24, 24, 32)        0         \n",
      "_________________________________________________________________\n",
      "separable_conv2d (SeparableC (None, 24, 24, 64)        2400      \n",
      "_________________________________________________________________\n",
      "separable_conv2d_1 (Separabl (None, 24, 24, 64)        4736      \n",
      "_________________________________________________________________\n",
      "batch_normalization (BatchNo (None, 24, 24, 64)        256       \n",
      "_________________________________________________________________\n",
      "max_pooling2d_2 (MaxPooling2 (None, 12, 12, 64)        0         \n",
      "_________________________________________________________________\n",
      "separable_conv2d_2 (Separabl (None, 12, 12, 128)       8896      \n",
      "_________________________________________________________________\n",
      "separable_conv2d_3 (Separabl (None, 12, 12, 128)       17664     \n",
      "_________________________________________________________________\n",
      "batch_normalization_1 (Batch (None, 12, 12, 128)       512       \n",
      "_________________________________________________________________\n",
      "max_pooling2d_3 (MaxPooling2 (None, 6, 6, 128)         0         \n",
      "_________________________________________________________________\n",
      "dropout (Dropout)            (None, 6, 6, 128)         0         \n",
      "_________________________________________________________________\n",
      "separable_conv2d_4 (Separabl (None, 6, 6, 256)         34176     \n",
      "_________________________________________________________________\n",
      "separable_conv2d_5 (Separabl (None, 6, 6, 256)         68096     \n",
      "_________________________________________________________________\n",
      "batch_normalization_2 (Batch (None, 6, 6, 256)         1024      \n",
      "_________________________________________________________________\n",
      "max_pooling2d_4 (MaxPooling2 (None, 3, 3, 256)         0         \n",
      "_________________________________________________________________\n",
      "dropout_1 (Dropout)          (None, 3, 3, 256)         0         \n",
      "_________________________________________________________________\n",
      "flatten (Flatten)            (None, 2304)              0         \n",
      "_________________________________________________________________\n",
      "dense (Dense)                (None, 512)               1180160   \n",
      "_________________________________________________________________\n",
      "batch_normalization_3 (Batch (None, 512)               2048      \n",
      "_________________________________________________________________\n",
      "dropout_2 (Dropout)          (None, 512)               0         \n",
      "_________________________________________________________________\n",
      "dense_1 (Dense)              (None, 128)               65664     \n",
      "_________________________________________________________________\n",
      "batch_normalization_4 (Batch (None, 128)               512       \n",
      "_________________________________________________________________\n",
      "dropout_3 (Dropout)          (None, 128)               0         \n",
      "_________________________________________________________________\n",
      "dense_2 (Dense)              (None, 64)                8256      \n",
      "_________________________________________________________________\n",
      "batch_normalization_5 (Batch (None, 64)                256       \n",
      "_________________________________________________________________\n",
      "dropout_4 (Dropout)          (None, 64)                0         \n",
      "_________________________________________________________________\n",
      "dense_3 (Dense)              (None, 5)                 325       \n",
      "=================================================================\n",
      "Total params: 1,397,509\n",
      "Trainable params: 1,395,205\n",
      "Non-trainable params: 2,304\n",
      "_________________________________________________________________\n"
     ]
    }
   ],
   "source": [
    "model = CNN(input_shape=(100, 100, 3), num_classes=5)\n",
    "model.summary()"
   ]
  },
  {
   "cell_type": "code",
   "execution_count": 4,
   "id": "ab284c84",
   "metadata": {},
   "outputs": [],
   "source": [
    "model.compile_model()"
   ]
  },
  {
   "cell_type": "code",
   "execution_count": null,
   "id": "339ded48",
   "metadata": {},
   "outputs": [
    {
     "name": "stderr",
     "output_type": "stream",
     "text": [
      "Loading AD: 100%|██████████| 8007/8007 [00:14<00:00, 542.98it/s]\n",
      "Loading CN: 100%|██████████| 8001/8001 [00:10<00:00, 737.57it/s] \n",
      "Loading EMCI: 100%|██████████| 8001/8001 [00:08<00:00, 947.61it/s] \n",
      "Loading LMCI: 100%|██████████| 8066/8066 [00:10<00:00, 789.88it/s] \n",
      "Loading MCI: 100%|██████████| 8002/8002 [00:12<00:00, 641.12it/s]\n"
     ]
    }
   ],
   "source": [
    "base_path = 'Database'\n",
    "dataset_folder = 'train'  \n",
    "image_size = 100  \n",
    "image_data, label_data, label_names = load_and_preprocess_data(base_path, dataset_folder, image_size=image_size)"
   ]
  },
  {
   "cell_type": "code",
   "execution_count": 6,
   "id": "186d9f04",
   "metadata": {},
   "outputs": [
    {
     "data": {
      "text/plain": [
       "(40077, 100, 100, 3)"
      ]
     },
     "execution_count": 6,
     "metadata": {},
     "output_type": "execute_result"
    }
   ],
   "source": [
    "image_data.shape"
   ]
  },
  {
   "cell_type": "code",
   "execution_count": 7,
   "id": "92359f68",
   "metadata": {},
   "outputs": [],
   "source": [
    "test_size = 0.2  # 20% of data will be used for testing\n",
    "random_state = 42 \n",
    "X_train, X_test, Y_train, Y_test, label_names = prepare_train_test_data(image_data, label_data, test_size=test_size, random_state=random_state)"
   ]
  },
  {
   "cell_type": "code",
   "execution_count": 9,
   "id": "58657775",
   "metadata": {},
   "outputs": [],
   "source": [
    "#from keras import backend as K\n",
    "#K.clear_session()"
   ]
  },
  {
   "cell_type": "code",
   "execution_count": 10,
   "id": "4db11e5b",
   "metadata": {},
   "outputs": [],
   "source": [
    "#import tensorflow as tf"
   ]
  },
  {
   "cell_type": "code",
   "execution_count": 11,
   "id": "77e5c7c6",
   "metadata": {},
   "outputs": [],
   "source": [
    "#tf.config.list_physical_devices('GPU')"
   ]
  },
  {
   "cell_type": "code",
   "execution_count": 8,
   "id": "86e78fd8",
   "metadata": {},
   "outputs": [
    {
     "name": "stdout",
     "output_type": "stream",
     "text": [
      "Epoch 1/50\n",
      "3207/3207 [==============================] - 65s 17ms/step - loss: 1.1891 - auc: 0.8195 - val_loss: 0.8191 - val_auc: 0.9141\n",
      "Epoch 2/50\n",
      "3207/3207 [==============================] - 55s 17ms/step - loss: 0.7389 - auc: 0.9293 - val_loss: 0.4843 - val_auc: 0.9689\n",
      "Epoch 3/50\n",
      "3207/3207 [==============================] - 56s 17ms/step - loss: 0.5310 - auc: 0.9624 - val_loss: 0.3172 - val_auc: 0.9864\n",
      "Epoch 4/50\n",
      "3207/3207 [==============================] - 56s 18ms/step - loss: 0.4225 - auc: 0.9750 - val_loss: 0.2481 - val_auc: 0.9910\n",
      "Epoch 5/50\n",
      "3207/3207 [==============================] - 55s 17ms/step - loss: 0.3677 - auc: 0.9803 - val_loss: 0.2497 - val_auc: 0.9910\n",
      "Epoch 6/50\n",
      "3207/3207 [==============================] - 56s 17ms/step - loss: 0.3309 - auc: 0.9835 - val_loss: 0.1802 - val_auc: 0.9955\n",
      "Epoch 7/50\n",
      "3207/3207 [==============================] - 60s 19ms/step - loss: 0.2831 - auc: 0.9873 - val_loss: 0.1563 - val_auc: 0.9965\n",
      "Epoch 8/50\n",
      "3207/3207 [==============================] - 62s 19ms/step - loss: 0.2730 - auc: 0.9881 - val_loss: 0.2353 - val_auc: 0.9915\n",
      "Epoch 9/50\n",
      "3207/3207 [==============================] - 62s 19ms/step - loss: 0.2716 - auc: 0.9882 - val_loss: 0.1359 - val_auc: 0.9972\n",
      "Epoch 10/50\n",
      "3207/3207 [==============================] - 62s 19ms/step - loss: 0.2190 - auc: 0.9917 - val_loss: 0.1391 - val_auc: 0.9966\n",
      "Epoch 11/50\n",
      "3207/3207 [==============================] - 62s 19ms/step - loss: 0.2034 - auc: 0.9924 - val_loss: 0.1541 - val_auc: 0.9955\n",
      "Epoch 12/50\n",
      "3207/3207 [==============================] - 59s 19ms/step - loss: 0.1935 - auc: 0.9932 - val_loss: 0.1111 - val_auc: 0.9983\n",
      "Epoch 13/50\n",
      "3207/3207 [==============================] - 61s 19ms/step - loss: 0.1746 - auc: 0.9943 - val_loss: 0.1896 - val_auc: 0.9939\n",
      "Epoch 14/50\n",
      "3207/3207 [==============================] - 61s 19ms/step - loss: 0.1615 - auc: 0.9947 - val_loss: 0.1024 - val_auc: 0.9979\n",
      "Epoch 15/50\n",
      "3207/3207 [==============================] - 60s 19ms/step - loss: 0.1491 - auc: 0.9953 - val_loss: 0.1030 - val_auc: 0.9984\n",
      "Epoch 16/50\n",
      "3207/3207 [==============================] - 59s 18ms/step - loss: 0.1526 - auc: 0.9950 - val_loss: 0.0673 - val_auc: 0.9992\n",
      "Epoch 17/50\n",
      "3207/3207 [==============================] - 59s 18ms/step - loss: 0.1306 - auc: 0.9960 - val_loss: 0.1121 - val_auc: 0.9967\n",
      "Epoch 18/50\n",
      "3207/3207 [==============================] - 60s 19ms/step - loss: 0.1322 - auc: 0.9959 - val_loss: 0.0648 - val_auc: 0.9990\n",
      "Epoch 19/50\n",
      "3207/3207 [==============================] - 59s 18ms/step - loss: 0.1298 - auc: 0.9963 - val_loss: 0.0681 - val_auc: 0.9991\n",
      "Epoch 20/50\n",
      "3207/3207 [==============================] - 59s 18ms/step - loss: 0.1127 - auc: 0.9969 - val_loss: 0.0791 - val_auc: 0.9982\n",
      "Epoch 21/50\n",
      "3207/3207 [==============================] - 60s 19ms/step - loss: 0.1092 - auc: 0.9971 - val_loss: 0.0551 - val_auc: 0.9993\n",
      "Epoch 22/50\n",
      "3207/3207 [==============================] - 60s 19ms/step - loss: 0.1063 - auc: 0.9971 - val_loss: 0.0922 - val_auc: 0.9982\n",
      "Epoch 23/50\n",
      "3207/3207 [==============================] - 60s 19ms/step - loss: 0.1168 - auc: 0.9964 - val_loss: 0.1035 - val_auc: 0.9983\n",
      "Epoch 24/50\n",
      "3207/3207 [==============================] - 60s 19ms/step - loss: 0.1185 - auc: 0.9965 - val_loss: 0.0924 - val_auc: 0.9982\n",
      "Epoch 25/50\n",
      "3207/3207 [==============================] - 60s 19ms/step - loss: 0.0936 - auc: 0.9973 - val_loss: 0.0608 - val_auc: 0.9994\n",
      "Epoch 26/50\n",
      "3207/3207 [==============================] - 60s 19ms/step - loss: 0.0920 - auc: 0.9976 - val_loss: 0.0812 - val_auc: 0.9973\n",
      "Epoch 27/50\n",
      "3207/3207 [==============================] - 60s 19ms/step - loss: 0.0912 - auc: 0.9975 - val_loss: 0.0542 - val_auc: 0.9993\n",
      "Epoch 28/50\n",
      "3207/3207 [==============================] - 37s 11ms/step - loss: 0.0865 - auc: 0.9977 - val_loss: 0.0394 - val_auc: 0.9991\n",
      "Epoch 29/50\n",
      "3207/3207 [==============================] - 30s 9ms/step - loss: 0.0885 - auc: 0.9974 - val_loss: 0.1786 - val_auc: 0.9929\n",
      "Epoch 30/50\n",
      "3207/3207 [==============================] - 30s 10ms/step - loss: 0.0785 - auc: 0.9980 - val_loss: 0.0462 - val_auc: 0.9992\n",
      "Epoch 31/50\n",
      "3207/3207 [==============================] - 32s 10ms/step - loss: 0.0758 - auc: 0.9979 - val_loss: 0.0372 - val_auc: 0.9995\n",
      "Epoch 32/50\n",
      "3207/3207 [==============================] - 33s 10ms/step - loss: 0.0748 - auc: 0.9981 - val_loss: 0.0429 - val_auc: 0.9994\n",
      "Epoch 33/50\n",
      "3207/3207 [==============================] - 33s 10ms/step - loss: 0.0749 - auc: 0.9982 - val_loss: 0.0545 - val_auc: 0.9991\n",
      "Epoch 34/50\n",
      "3207/3207 [==============================] - 34s 11ms/step - loss: 0.0771 - auc: 0.9980 - val_loss: 0.0371 - val_auc: 0.9997\n",
      "Epoch 35/50\n",
      "3207/3207 [==============================] - 34s 11ms/step - loss: 0.0661 - auc: 0.9985 - val_loss: 0.0412 - val_auc: 0.9995\n",
      "Epoch 36/50\n",
      "3207/3207 [==============================] - 33s 10ms/step - loss: 0.0700 - auc: 0.9983 - val_loss: 0.0614 - val_auc: 0.9988\n",
      "Epoch 37/50\n",
      "3207/3207 [==============================] - 34s 11ms/step - loss: 0.0662 - auc: 0.9984 - val_loss: 0.0402 - val_auc: 0.9993\n",
      "Epoch 38/50\n",
      "3207/3207 [==============================] - 34s 11ms/step - loss: 0.0706 - auc: 0.9982 - val_loss: 0.0301 - val_auc: 0.9996\n",
      "Epoch 39/50\n",
      "3207/3207 [==============================] - 31s 10ms/step - loss: 0.0651 - auc: 0.9982 - val_loss: 0.0330 - val_auc: 0.9997\n",
      "Epoch 40/50\n",
      "3207/3207 [==============================] - 33s 10ms/step - loss: 0.0736 - auc: 0.9982 - val_loss: 0.0301 - val_auc: 0.9996\n",
      "Epoch 41/50\n",
      "3207/3207 [==============================] - 32s 10ms/step - loss: 0.0590 - auc: 0.9986 - val_loss: 0.0401 - val_auc: 0.9991\n",
      "Epoch 42/50\n",
      "3207/3207 [==============================] - 32s 10ms/step - loss: 0.0545 - auc: 0.9988 - val_loss: 0.0352 - val_auc: 0.9995\n",
      "Epoch 43/50\n",
      "3207/3207 [==============================] - 32s 10ms/step - loss: 0.0727 - auc: 0.9981 - val_loss: 0.0359 - val_auc: 0.9993\n",
      "Epoch 44/50\n",
      "3207/3207 [==============================] - 32s 10ms/step - loss: 0.0462 - auc: 0.9990 - val_loss: 0.0409 - val_auc: 0.9992\n",
      "Epoch 45/50\n",
      "3207/3207 [==============================] - 32s 10ms/step - loss: 0.0548 - auc: 0.9984 - val_loss: 0.0506 - val_auc: 0.9988\n",
      "Epoch 46/50\n",
      "3207/3207 [==============================] - 31s 10ms/step - loss: 0.0566 - auc: 0.9988 - val_loss: 0.0292 - val_auc: 0.9996\n",
      "Epoch 47/50\n",
      "3207/3207 [==============================] - 30s 9ms/step - loss: 0.0523 - auc: 0.9988 - val_loss: 0.0434 - val_auc: 0.9989\n",
      "Epoch 48/50\n",
      "3207/3207 [==============================] - 31s 10ms/step - loss: 0.0538 - auc: 0.9986 - val_loss: 0.0340 - val_auc: 0.9995\n",
      "Epoch 49/50\n",
      "3207/3207 [==============================] - 30s 9ms/step - loss: 0.0507 - auc: 0.9987 - val_loss: 0.0298 - val_auc: 0.9996\n",
      "Epoch 50/50\n",
      "3207/3207 [==============================] - 30s 9ms/step - loss: 0.0514 - auc: 0.9987 - val_loss: 0.0638 - val_auc: 0.9980\n"
     ]
    }
   ],
   "source": [
    "model_name = 'cnn'\n",
    "history = train_model(model,X_train, Y_train, X_test, Y_test,model_name)"
   ]
  },
  {
   "cell_type": "code",
   "execution_count": 11,
   "id": "0481b8b2",
   "metadata": {},
   "outputs": [
    {
     "name": "stdout",
     "output_type": "stream",
     "text": [
      "251/251 [==============================] - 1s 4ms/step - loss: 0.0638 - auc: 0.9980\n",
      "Test Loss:  0.0638086125254631\n",
      "Test Accuracy:  0.9980165958404541\n"
     ]
    }
   ],
   "source": [
    "loss, accuracy = model.evaluate(X_test, Y_test)\n",
    "print(\"Test Loss: \", loss)\n",
    "print(\"Test Accuracy: \", accuracy)"
   ]
  },
  {
   "cell_type": "code",
   "execution_count": 12,
   "id": "0fcaca6c",
   "metadata": {},
   "outputs": [
    {
     "data": {
      "image/png": "[encoded data removed]",
      "text/plain": [
       "<Figure size 432x288 with 1 Axes>"
      ]
     },
     "metadata": {
      "needs_background": "light"
     },
     "output_type": "display_data"
    },
    {
     "data": {
      "image/png": "[encoded data removed]",
      "text/plain": [
       "<Figure size 432x288 with 1 Axes>"
      ]
     },
     "metadata": {
      "needs_background": "light"
     },
     "output_type": "display_data"
    }
   ],
   "source": [
    "import matplotlib.pyplot as plt\n",
    "\n",
    "# summarize history for accuracy\n",
    "plt.plot(history.history['auc'])\n",
    "plt.plot(history.history['val_auc'])\n",
    "plt.title('model accuracy')\n",
    "plt.ylabel('accuracy')\n",
    "plt.xlabel('epoch')\n",
    "plt.legend(['Train', 'Test'], loc='upper left')\n",
    "plt.grid()\n",
    "plt.show()\n",
    "# summarize history for loss\n",
    "plt.plot(history.history['loss'])\n",
    "plt.plot(history.history['val_loss'])\n",
    "plt.title('model loss')\n",
    "plt.ylabel('loss')\n",
    "plt.xlabel('epoch')\n",
    "plt.legend(['Train', 'Test'], loc='upper left')\n",
    "plt.grid()\n",
    "plt.show()\n"
   ]
  },
  {
   "cell_type": "code",
   "execution_count": 13,
   "id": "45244395",
   "metadata": {},
   "outputs": [
    {
     "name": "stdout",
     "output_type": "stream",
     "text": [
      "              precision    recall  f1-score   support\n",
      "\n",
      "           0       0.98      0.98      0.98      1653\n",
      "           1       0.98      1.00      0.99      1612\n",
      "           2       1.00      0.96      0.98      1588\n",
      "           3       0.96      1.00      0.98      1552\n",
      "           4       0.99      0.97      0.98      1611\n",
      "\n",
      "    accuracy                           0.98      8016\n",
      "   macro avg       0.98      0.98      0.98      8016\n",
      "weighted avg       0.98      0.98      0.98      8016\n",
      "\n"
     ]
    },
    {
     "data": {
      "image/png": "[encoded data removed]",
      "text/plain": [
       "<Figure size 720x504 with 2 Axes>"
      ]
     },
     "metadata": {
      "needs_background": "light"
     },
     "output_type": "display_data"
    }
   ],
   "source": [
    "evaluate_model(model, X_test, Y_test)"
   ]
  }
 ],
 "metadata": {
  "kernelspec": {
   "display_name": "myenv",
   "language": "python",
   "name": "python3"
  },
  "language_info": {
   "codemirror_mode": {
    "name": "ipython",
    "version": 3
   },
   "file_extension": ".py",
   "mimetype": "text/x-python",
   "name": "python",
   "nbconvert_exporter": "python",
   "pygments_lexer": "ipython3",
   "version": "3.6.13"
  }
 },
 "nbformat": 4,
 "nbformat_minor": 5
}
